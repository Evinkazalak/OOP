{
 "cells": [
  {
   "cell_type": "markdown",
   "id": "9e67ec09",
   "metadata": {},
   "source": [
    "# OBJE ODAKLI PROGRAM"
   ]
  },
  {
   "cell_type": "code",
   "execution_count": 1,
   "id": "a9fdae6b",
   "metadata": {},
   "outputs": [],
   "source": [
    "#Burada liste sınıfından bir nesne oluşturduk"
   ]
  },
  {
   "cell_type": "code",
   "execution_count": 2,
   "id": "bb80f864",
   "metadata": {},
   "outputs": [],
   "source": [
    "benımLıstem=list()"
   ]
  },
  {
   "cell_type": "code",
   "execution_count": 3,
   "id": "6f9c1455",
   "metadata": {},
   "outputs": [
    {
     "data": {
      "text/plain": [
       "list"
      ]
     },
     "execution_count": 3,
     "metadata": {},
     "output_type": "execute_result"
    }
   ],
   "source": [
    "type(benımLıstem)"
   ]
  },
  {
   "cell_type": "code",
   "execution_count": 4,
   "id": "58259e66",
   "metadata": {},
   "outputs": [],
   "source": [
    "# İNSTANCE: bir örnek nesne manasına geliyor. bir sınıftan nesne oluşturduğumuzda ona bu sınıfın nesnesi diyoruz.\n",
    "#bunun adı dai İNSTANCE"
   ]
  },
  {
   "cell_type": "code",
   "execution_count": 5,
   "id": "38beef40",
   "metadata": {},
   "outputs": [],
   "source": [
    "#ATTRİBUTE : o sınıfın kendi özellikleri demektir."
   ]
  },
  {
   "cell_type": "code",
   "execution_count": 7,
   "id": "dd89a643",
   "metadata": {},
   "outputs": [],
   "source": [
    "# sınıf oluşturduğunda CLASS anahtar sözcüğünü kullanmalısın. : olmalı ve ilk harfi büyük yazılmalı.\n",
    "#clasları tanımlarken İNİT anahtar sözcüğü yaz. bu bir şeyleri çağırır."
   ]
  },
  {
   "cell_type": "code",
   "execution_count": 28,
   "id": "eb1e36a2",
   "metadata": {},
   "outputs": [],
   "source": [
    "#self input sayesinde .tab dediğimde istediklerime erişebiliyorum.\n",
    "#self kendi demek zaten kendini çağır gibi bir şey.\n",
    "#burada süpermen süperkahraman sınıfından oluşturulan bir objedir"
   ]
  },
  {
   "cell_type": "code",
   "execution_count": 24,
   "id": "b5f00c80",
   "metadata": {},
   "outputs": [],
   "source": [
    "IkıncıSuperKahraman=\"Batman\""
   ]
  },
  {
   "cell_type": "code",
   "execution_count": 40,
   "id": "5fc1075f",
   "metadata": {},
   "outputs": [],
   "source": [
    "class SuperKahraman():\n",
    "    \n",
    "    #burada görünmezlik bir metot\n",
    "    ozelGuc=\"Görünmezlik\"\n",
    "    \n",
    "    def __init__(self, IsımInput,YasInput,MeslekInput):\n",
    "        print(\"init çağrıldı\")\n",
    "        self.ısım=IsımInput\n",
    "        self.yas=YasInput\n",
    "        self.meslek=MeslekInput\n",
    "        \n",
    "    def OrnekMethod(self):\n",
    "        print(\"ben bir süperkahramanım :)))\")"
   ]
  },
  {
   "cell_type": "code",
   "execution_count": 41,
   "id": "abbfc1bd",
   "metadata": {},
   "outputs": [
    {
     "name": "stdout",
     "output_type": "stream",
     "text": [
      "init çağrıldı\n"
     ]
    }
   ],
   "source": [
    "superman=SuperKahraman(\"Superman\",30,\"Yazılımcı\")"
   ]
  },
  {
   "cell_type": "code",
   "execution_count": 42,
   "id": "3c96317a",
   "metadata": {},
   "outputs": [],
   "source": [
    "superman.ısım=\"Evin kazalak\""
   ]
  },
  {
   "cell_type": "code",
   "execution_count": 43,
   "id": "25ec80a0",
   "metadata": {},
   "outputs": [
    {
     "data": {
      "text/plain": [
       "'Evin kazalak'"
      ]
     },
     "execution_count": 43,
     "metadata": {},
     "output_type": "execute_result"
    }
   ],
   "source": [
    "superman.ısım"
   ]
  },
  {
   "cell_type": "code",
   "execution_count": 44,
   "id": "eddca476",
   "metadata": {},
   "outputs": [
    {
     "data": {
      "text/plain": [
       "'Görünmezlik'"
      ]
     },
     "execution_count": 44,
     "metadata": {},
     "output_type": "execute_result"
    }
   ],
   "source": [
    "superman.ozelGuc"
   ]
  },
  {
   "cell_type": "code",
   "execution_count": 45,
   "id": "1b22790c",
   "metadata": {},
   "outputs": [],
   "source": [
    "superman.ozelGuc=\"uçabilime\" # burada özel gücü değiştirdik."
   ]
  },
  {
   "cell_type": "code",
   "execution_count": 46,
   "id": "4468fb64",
   "metadata": {},
   "outputs": [
    {
     "data": {
      "text/plain": [
       "'uçabilime'"
      ]
     },
     "execution_count": 46,
     "metadata": {},
     "output_type": "execute_result"
    }
   ],
   "source": [
    "superman.ozelGuc"
   ]
  },
  {
   "cell_type": "code",
   "execution_count": 47,
   "id": "019678dc",
   "metadata": {},
   "outputs": [],
   "source": [
    "# self sayesinde objenin özelliklerine ulaşabiliyorum"
   ]
  },
  {
   "cell_type": "code",
   "execution_count": 49,
   "id": "5a84ca61",
   "metadata": {},
   "outputs": [
    {
     "name": "stdout",
     "output_type": "stream",
     "text": [
      "ben bir süperkahramanım :)))\n"
     ]
    }
   ],
   "source": [
    "superman.OrnekMethod()"
   ]
  },
  {
   "cell_type": "code",
   "execution_count": 50,
   "id": "3ca06932",
   "metadata": {},
   "outputs": [],
   "source": [
    "# herhamgi bir metot kullandığında içine self değerini  vermediğinde o metot çökecektir."
   ]
  },
  {
   "cell_type": "code",
   "execution_count": 51,
   "id": "46b7f0bc",
   "metadata": {},
   "outputs": [],
   "source": [
    "# VARSAYILAN DEĞERLERRR"
   ]
  },
  {
   "cell_type": "code",
   "execution_count": 66,
   "id": "c3a7ff4d",
   "metadata": {},
   "outputs": [],
   "source": [
    "class Kopek():\n",
    "    def __init__(self,yas=5):\n",
    "        self.yas=yas"
   ]
  },
  {
   "cell_type": "code",
   "execution_count": 70,
   "id": "429a6634",
   "metadata": {},
   "outputs": [],
   "source": [
    "benımKopek=Kopek()"
   ]
  },
  {
   "cell_type": "code",
   "execution_count": 71,
   "id": "36522f93",
   "metadata": {},
   "outputs": [
    {
     "data": {
      "text/plain": [
       "5"
      ]
     },
     "execution_count": 71,
     "metadata": {},
     "output_type": "execute_result"
    }
   ],
   "source": [
    "benımKopek.yas"
   ]
  },
  {
   "cell_type": "code",
   "execution_count": 72,
   "id": "2e4604c9",
   "metadata": {},
   "outputs": [
    {
     "data": {
      "text/plain": [
       "5"
      ]
     },
     "execution_count": 72,
     "metadata": {},
     "output_type": "execute_result"
    }
   ],
   "source": [
    "benımKopek.yas"
   ]
  },
  {
   "cell_type": "code",
   "execution_count": 73,
   "id": "625b753e",
   "metadata": {},
   "outputs": [],
   "source": [
    "class Kedı():\n",
    "    def __init__(self,yasi=12):\n",
    "        self.yasi=yasi"
   ]
  },
  {
   "cell_type": "code",
   "execution_count": 74,
   "id": "60f8de93",
   "metadata": {},
   "outputs": [],
   "source": [
    "benımKedı=Kedı()"
   ]
  },
  {
   "cell_type": "code",
   "execution_count": 75,
   "id": "dbdfc29a",
   "metadata": {},
   "outputs": [
    {
     "data": {
      "text/plain": [
       "12"
      ]
     },
     "execution_count": 75,
     "metadata": {},
     "output_type": "execute_result"
    }
   ],
   "source": [
    "benımKedı.yasi"
   ]
  },
  {
   "cell_type": "code",
   "execution_count": 76,
   "id": "86518a23",
   "metadata": {},
   "outputs": [
    {
     "data": {
      "text/plain": [
       "5"
      ]
     },
     "execution_count": 76,
     "metadata": {},
     "output_type": "execute_result"
    }
   ],
   "source": [
    "benımKopek.yas"
   ]
  },
  {
   "cell_type": "code",
   "execution_count": 78,
   "id": "472cf84e",
   "metadata": {},
   "outputs": [],
   "source": [
    "# MİRAS- İNHERİTANCE- KALITIM"
   ]
  },
  {
   "cell_type": "code",
   "execution_count": 10,
   "id": "f1569160",
   "metadata": {},
   "outputs": [],
   "source": [
    "class Hayvan():\n",
    "    def __init__(self):\n",
    "        print(\"hayvan sınıfı çağrıldı\")\n",
    "    \n",
    "    def method1(self):\n",
    "        print(\" hayvan sınıfı metot 1 çağrıldı\")\n",
    "        \n",
    "    def method2(self):\n",
    "        print(\" hayvan sınıfı metot 2 çağrıldı\")\n",
    "        \n",
    "        "
   ]
  },
  {
   "cell_type": "code",
   "execution_count": 11,
   "id": "be069d0f",
   "metadata": {},
   "outputs": [
    {
     "name": "stdout",
     "output_type": "stream",
     "text": [
      "hayvan sınıfı çağrıldı\n"
     ]
    }
   ],
   "source": [
    "benımHayvanım=Hayvan()"
   ]
  },
  {
   "cell_type": "code",
   "execution_count": 12,
   "id": "723ab251",
   "metadata": {},
   "outputs": [
    {
     "name": "stdout",
     "output_type": "stream",
     "text": [
      " hayvan sınıfı metot 1 çağrıldı\n"
     ]
    }
   ],
   "source": [
    "benımHayvanım.method1()"
   ]
  },
  {
   "cell_type": "code",
   "execution_count": 13,
   "id": "0d6cf20a",
   "metadata": {},
   "outputs": [
    {
     "name": "stdout",
     "output_type": "stream",
     "text": [
      " hayvan sınıfı metot 2 çağrıldı\n"
     ]
    }
   ],
   "source": [
    "benımHayvanım.method2()"
   ]
  },
  {
   "cell_type": "code",
   "execution_count": 17,
   "id": "27af417f",
   "metadata": {},
   "outputs": [],
   "source": [
    "class kedım(Hayvan):\n",
    "    def __init__(self):\n",
    "        Hayvan.__init__(self)\n",
    "        print(\"kedi sınıfı init çağrıldı\")\n",
    "        \n",
    "    def miyavla(self):\n",
    "        print(\"miyav\")\n",
    "        \n",
    "    def method1(self):\n",
    "        print(\"kedi sınıfından method 1 çağrıldı.\")\n",
    "            "
   ]
  },
  {
   "cell_type": "code",
   "execution_count": 18,
   "id": "51705b19",
   "metadata": {},
   "outputs": [
    {
     "name": "stdout",
     "output_type": "stream",
     "text": [
      "hayvan sınıfı çağrıldı\n",
      "kedi sınıfı init çağrıldı\n"
     ]
    }
   ],
   "source": [
    "benımKedımm=kedım()"
   ]
  },
  {
   "cell_type": "code",
   "execution_count": 19,
   "id": "ae8b15bc",
   "metadata": {},
   "outputs": [],
   "source": [
    "# temel sınıfta yapılan değişiklikler türetilen sınıfı etkiler \n",
    "#peki ya ben etkilemesini istemessem ne olacak ? burada overridelik kavramı devreye girecek.\n",
    "#overridelik de aynı ismi kullanması yeterlidir."
   ]
  },
  {
   "cell_type": "code",
   "execution_count": 20,
   "id": "4fe03f1e",
   "metadata": {},
   "outputs": [
    {
     "name": "stdout",
     "output_type": "stream",
     "text": [
      "hayvan sınıfı çağrıldı\n",
      "kedi sınıfı init çağrıldı\n"
     ]
    }
   ],
   "source": [
    "dıgerKedım=kedım()"
   ]
  },
  {
   "cell_type": "code",
   "execution_count": 21,
   "id": "da0ba02a",
   "metadata": {},
   "outputs": [
    {
     "name": "stdout",
     "output_type": "stream",
     "text": [
      "kedi sınıfından method 1 çağrıldı.\n"
     ]
    }
   ],
   "source": [
    "dıgerKedım.method1()"
   ]
  },
  {
   "cell_type": "code",
   "execution_count": 22,
   "id": "c8fd9f4f",
   "metadata": {},
   "outputs": [],
   "source": [
    "#POLYMORPHİZM : aynı isimli metotların farklı amaçlara hizmet etmesidir.\n",
    "#şimdiki örnekte 2 farklı sınıf oluşturup \n",
    "#aynı isimli  metotlar  olacak bu metotların yaptıkları işler aynı  olsada farklı sonuçları döndürecekler."
   ]
  },
  {
   "cell_type": "code",
   "execution_count": 32,
   "id": "6667e719",
   "metadata": {},
   "outputs": [],
   "source": [
    "class Elma():\n",
    "    def __init__(self,isim):\n",
    "        self.isim=isim\n",
    "        \n",
    "    def bilgiver(self):\n",
    "        return self.isim + \" 100 kaloridir.\""
   ]
  },
  {
   "cell_type": "code",
   "execution_count": 36,
   "id": "9173246e",
   "metadata": {},
   "outputs": [],
   "source": [
    "class Muz():\n",
    "    def __init__(self,isim):\n",
    "        self.isim=isim\n",
    "    \n",
    "    def bilgiver(self):\n",
    "        return self.isim + \" 150 kaloridir.\""
   ]
  },
  {
   "cell_type": "code",
   "execution_count": 37,
   "id": "1eb9a633",
   "metadata": {},
   "outputs": [],
   "source": [
    "elma=Elma(\"elma\")"
   ]
  },
  {
   "cell_type": "code",
   "execution_count": 39,
   "id": "e7140dd1",
   "metadata": {},
   "outputs": [
    {
     "data": {
      "text/plain": [
       "'elma 100 kaloridir.'"
      ]
     },
     "execution_count": 39,
     "metadata": {},
     "output_type": "execute_result"
    }
   ],
   "source": [
    "elma.bilgiver()"
   ]
  },
  {
   "cell_type": "markdown",
   "id": "3e572eb2",
   "metadata": {},
   "source": []
  },
  {
   "cell_type": "code",
   "execution_count": 40,
   "id": "ee163f16",
   "metadata": {},
   "outputs": [],
   "source": [
    "muz=Muz(\"muz\")"
   ]
  },
  {
   "cell_type": "code",
   "execution_count": 41,
   "id": "4bf52dbe",
   "metadata": {},
   "outputs": [
    {
     "data": {
      "text/plain": [
       "'muz 150 kaloridir.'"
      ]
     },
     "execution_count": 41,
     "metadata": {},
     "output_type": "execute_result"
    }
   ],
   "source": [
    "muz.bilgiver()"
   ]
  },
  {
   "cell_type": "code",
   "execution_count": 42,
   "id": "6f9a577d",
   "metadata": {},
   "outputs": [],
   "source": [
    "#bir döngü içine koyduğumda  ve bilgiver fonksiyonunu çağırdığımda her ikisinede ait olan gelir.\n",
    "#çünkü her ikisindede aynı fonksiyon var."
   ]
  },
  {
   "cell_type": "code",
   "execution_count": 43,
   "id": "75331143",
   "metadata": {},
   "outputs": [],
   "source": [
    "meyveLıstesı=[elma,muz]"
   ]
  },
  {
   "cell_type": "code",
   "execution_count": 45,
   "id": "d53775ba",
   "metadata": {},
   "outputs": [
    {
     "name": "stdout",
     "output_type": "stream",
     "text": [
      "elma 100 kaloridir.\n",
      "muz 150 kaloridir.\n"
     ]
    }
   ],
   "source": [
    "for meyve in meyveLıstesı:\n",
    "    print(meyve.bilgiver())"
   ]
  },
  {
   "cell_type": "code",
   "execution_count": null,
   "id": "6741033a",
   "metadata": {},
   "outputs": [],
   "source": []
  }
 ],
 "metadata": {
  "kernelspec": {
   "display_name": "Python 3 (ipykernel)",
   "language": "python",
   "name": "python3"
  },
  "language_info": {
   "codemirror_mode": {
    "name": "ipython",
    "version": 3
   },
   "file_extension": ".py",
   "mimetype": "text/x-python",
   "name": "python",
   "nbconvert_exporter": "python",
   "pygments_lexer": "ipython3",
   "version": "3.9.7"
  }
 },
 "nbformat": 4,
 "nbformat_minor": 5
}
